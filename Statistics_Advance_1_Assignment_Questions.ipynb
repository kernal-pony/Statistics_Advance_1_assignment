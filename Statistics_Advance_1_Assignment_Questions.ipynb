{
  "nbformat": 4,
  "nbformat_minor": 0,
  "metadata": {
    "colab": {
      "provenance": []
    },
    "kernelspec": {
      "name": "python3",
      "display_name": "Python 3"
    },
    "language_info": {
      "name": "python"
    }
  },
  "cells": [
    {
      "cell_type": "code",
      "source": [
        "#  Question1: Define the z-statistic and explain its relationship to the standard normal distribution. How is the z-statistic used in hypothesis testing?"
      ],
      "metadata": {
        "id": "KMdCOGX7agZ0"
      },
      "execution_count": null,
      "outputs": []
    },
    {
      "cell_type": "markdown",
      "source": [
        "The **z-statistic** measures how many standard deviations a data point or sample statistic is away from the mean of a distribution. It is calculated as:\n",
        "\n",
        "z = (X - μ) / σ\n",
        "\n",
        "\n",
        "where X is the observed value, μ  is the population mean, and σ is the standard deviation.\n",
        "\n",
        " The z-statistic follows the **standard normal distribution**, which has a mean of 0 and a standard deviation of 1. This relationship allows the z-statistic to standardize different normal distributions for comparison and hypothesis testing.\n",
        "\n",
        " Here’s a point-wise explanation of how the **z-statistic** is used in hypothesis testing:\n",
        "\n",
        "1. **State the Hypotheses**:  \n",
        "   - Null hypothesis (\\(H_0\\)): Assumes no effect or difference.\n",
        "   - Alternative hypothesis (\\(H_1\\)): Represents the effect or difference.\n",
        "\n",
        "2. **Choose Significance Level**:  \n",
        "   - Common values: 0.05, 0.01, or 0.10.\n",
        "\n",
        "3. **Calculate the Z-Statistic**:  \n",
        "   - The z-statistic is calculated using the sample data and population parameters (mean, standard deviation, sample size).\n",
        "\n",
        "4. **Determine Critical Value or P-value**:  \n",
        "   - Find the critical z-value from the z-table or calculate the p-value corresponding to the test.\n",
        "\n",
        "5. **Compare the Z-Statistic**:  \n",
        "   - **Critical Value Approach**: If the z-statistic exceeds the critical value, reject the null hypothesis.\n",
        "   - **P-value Approach**: If the p-value is less than 'α', reject the null hypothesis.\n",
        "\n",
        "6. **Make the Decision**:  \n",
        "   - Reject \\(H_0\\) if the z-statistic is in the rejection region or the p-value is below σ\n",
        "   - Fail to reject \\(H_0\\) if the z-statistic is not in the rejection region or the p-value is above 'α'\n",
        "\n",
        "7. **Draw a Conclusion**:  \n",
        "   - Interpret whether there is enough evidence to support the alternative hypothesis or not."
      ],
      "metadata": {
        "id": "pGbVymIYajGX"
      }
    },
    {
      "cell_type": "code",
      "source": [],
      "metadata": {
        "id": "tJNWyuUzcWYT"
      },
      "execution_count": null,
      "outputs": []
    },
    {
      "cell_type": "code",
      "source": [
        "# Question2 : What is a p-value, and how is it used in hypothesis testing? What does it mean if the p-value is very small (e.g., 0.01)?"
      ],
      "metadata": {
        "id": "dNIULRgycXmA"
      },
      "execution_count": null,
      "outputs": []
    },
    {
      "cell_type": "markdown",
      "source": [
        "1. **Definition of P-Value**:  \n",
        "   - The p-value is the probability of obtaining a test statistic (e.g., z-statistic, t-statistic) at least as extreme as the one observed, assuming the null hypothesis is true.\n",
        "   - It quantifies the strength of evidence against the null hypothesis.\n",
        "\n",
        "2. **Role in Hypothesis Testing**:  \n",
        "   - In hypothesis testing, the p-value helps determine whether to reject the null hypothesis.\n",
        "   - **Low p-value**: Suggests that the observed data is unlikely under the null hypothesis, which may lead to rejecting \\(H_0\\).\n",
        "   - **High p-value**: Suggests that the observed data is likely under the null hypothesis, which may lead to failing to reject \\(H_0\\).\n",
        "\n",
        "3. **Decision Rule**:  \n",
        "   - **Reject the Null Hypothesis**: If the p-value is less than or equal to the chosen significance level 'α', you reject the null hypothesis.\n",
        "   - **Fail to Reject the Null Hypothesis**: If the p-value is greater than the significance level, you fail to reject the null hypothesis.\n",
        "\n",
        "4. **Interpreting a Small P-Value (e.g., 0.01)**:  \n",
        "   - A **small p-value** (e.g., 0.01) means that the observed data is highly unlikely under the null hypothesis, providing strong evidence against \\(H_0\\).\n",
        "   - This typically leads to rejecting the null hypothesis, suggesting that there is a statistically significant effect or difference.\n",
        "   \n",
        "   - **Example**: If the p-value is 0.01, it means there is a 1% probability of obtaining the observed results (or more extreme results) if the null hypothesis is true. Since 0.01 is less than typical significance levels (0.05, 0.01), you would reject \\(H_0\\).\n",
        "\n",
        "5. **P-Value and Strength of Evidence**:  \n",
        "   - **Very Small P-Value (e.g., 0.001)**: Indicates very strong evidence against the null hypothesis.\n",
        "   - **Moderate P-Value (e.g., 0.05)**: Indicates moderate evidence against the null hypothesis.\n",
        "   - **Large P-Value (e.g., 0.2)**: Indicates weak evidence against the null hypothesis.\n",
        "\n"
      ],
      "metadata": {
        "id": "GBlG0_8icnTT"
      }
    },
    {
      "cell_type": "code",
      "source": [],
      "metadata": {
        "id": "tDcrlDzRca_W"
      },
      "execution_count": null,
      "outputs": []
    },
    {
      "cell_type": "code",
      "source": [
        "# Question3: Compare and contrast the binomial and Bernoulli distributions."
      ],
      "metadata": {
        "id": "pnNv9qy9dWw5"
      },
      "execution_count": null,
      "outputs": []
    },
    {
      "cell_type": "markdown",
      "source": [
        "| **Feature**              | **Bernoulli Distribution**                         | **Binomial Distribution**                         |\n",
        "|--------------------------|----------------------------------------------------|---------------------------------------------------|\n",
        "| **Definition**            | Models a single trial with two possible outcomes: success or failure. | Models multiple trials with two possible outcomes: success or failure, across \\(n\\) trials. |\n",
        "| **Number of Trials**      | 1 trial                                            | \\(n\\) trials (where \\(n > 1\\))                    |\n",
        "| **Random Variable**       | Takes values 0 or 1 (failure or success).          | Takes values between 0 and \\(n\\) (number of successes). |\n",
        "| **Parameters**            | 1 parameter: \\(p\\) (probability of success).        | 2 parameters: \\(n\\) (number of trials) and \\(p\\) (probability of success). |\n",
        "| **Probability Function**  | \\(P(X = 1) = p\\), \\(P(X = 0) = 1 - p\\)             | \\(P(X = k) = \\binom{n}{k} p^k (1 - p)^{n - k}\\) where \\(k\\) is the number of successes. |\n",
        "| **Mean**                  | \\(p\\)                                              | \\(np\\) (mean\n"
      ],
      "metadata": {
        "id": "pqFaiW2seD2I"
      }
    },
    {
      "cell_type": "code",
      "source": [],
      "metadata": {
        "id": "bRZxLaKbdWjH"
      },
      "execution_count": null,
      "outputs": []
    },
    {
      "cell_type": "code",
      "source": [
        "# Question 4: Under what conditions is the binomial distribution used, and how does it relate to the Bernoulli distribution?"
      ],
      "metadata": {
        "id": "licIyEuPeN77"
      },
      "execution_count": null,
      "outputs": []
    },
    {
      "cell_type": "markdown",
      "source": [
        "The Binomial distribution is used when the following conditions are met:\n",
        "\n",
        "Fixed Number of Trials:\n",
        "\n",
        "  - The experiment consists of a fixed number of independent trials, denoted as\n",
        "𝑛\n",
        "\n",
        "Two Possible Outcomes:\n",
        "\n",
        "  - Each trial has exactly two possible outcomes, typically labeled as \"success\" or \"failure.\"\n",
        "Constant Probability of Success:\n",
        "\n",
        "  - The probability of success (\n",
        "𝑝\n",
        ") remains constant across all trials.\n",
        "\n",
        "Independence:\n",
        "\n",
        "  - The trials are independent, meaning the outcome of one trial does not affect the outcome of another trial.\n",
        "\n",
        "Discrete Random Variable:\n",
        "\n",
        "  - The outcome of the experiment is a count of the number of successes, which is a discrete random variable.\n",
        "\n",
        "Relation to the Bernoulli Distribution\n",
        "  - The Bernoulli distribution is a special case of the Binomial distribution when the number of trials\n",
        "𝑛\n",
        "=\n",
        "1\n",
        "\n",
        "\n",
        "Bernoulli Distribution: Models a single trial with two possible outcomes (success or failure). The random variable\n",
        "𝑋\n",
        " takes values 0 or 1.\n",
        "\n",
        "\n",
        "Binomial Distribution: Generalizes the Bernoulli distribution to multiple trials. It models the number of successes in\n",
        "𝑛\n",
        " independent trials, where each trial has a success probability\n",
        "𝑝\n",
        ". The random variable\n",
        "𝑋\n",
        " in the binomial distribution represents the number of successes (ranging from 0 to\n",
        "𝑛\n",
        ")."
      ],
      "metadata": {
        "id": "p3yqacWCehio"
      }
    },
    {
      "cell_type": "code",
      "source": [],
      "metadata": {
        "id": "_VZIWZG9eNz6"
      },
      "execution_count": null,
      "outputs": []
    },
    {
      "cell_type": "code",
      "source": [
        "# Question5: What are the key properties of the Poisson distribution, and when is it appropriate to use this distribution?"
      ],
      "metadata": {
        "id": "ht_FYldOEz0q"
      },
      "execution_count": null,
      "outputs": []
    },
    {
      "cell_type": "markdown",
      "source": [
        "The Poisson distribution is a discrete probability distribution that expresses the probability of a given number of events occurring in a fixed interval of time or space, under the following conditions.\n",
        "\n",
        "Key Properties of Poisson Distribution:\\\n",
        "\n",
        "Discrete Distribution: It deals with discrete events, meaning events are countable (e.g., number of calls, accidents, etc.).\n",
        "\n",
        "\n",
        "Events Occur Independently: The occurrence of one event does not affect the occurrence of another. This is known as the independence assumption.\n",
        "\n",
        "\n",
        "Constant Rate: The average number of events (denoted as λ, the rate parameter) is constant over time or space.\n",
        "\n",
        "\n",
        "Rare Events: It is used to model rare events within a fixed interval, with a small probability of occurrence for each event.\n",
        "\n",
        "\n",
        "Non-negative Integer Outcomes: The outcomes of a Poisson distribution are always non-negative integers (0, 1, 2, 3, ...).\n",
        "\n",
        "\n",
        "Probability Mass Function (PMF): The probability of observing exactly\n",
        "𝑘 events is given by the formula:\n",
        "\n",
        "𝑃\n",
        "(\n",
        "𝑋\n",
        "=\n",
        "𝑘\n",
        ")\n",
        "=\n",
        "(𝜆\n",
        "𝑘\n",
        "𝑒\n",
        "−\n",
        "𝜆)/\n",
        "𝑘\n",
        "!\n",
        "\n",
        "​\n",
        "\n",
        "where:\n",
        "\n",
        "𝜆\n",
        "λ is the average number of events in the given interval.\n",
        "𝑒\n",
        "e is Euler's number (approximately 2.71828).\n",
        "𝑘\n",
        "k is the number of events.\n",
        "Mean and Variance: Both the mean and variance of the Poisson distribution are equal to\n",
        "𝜆\n",
        "λ.\n",
        "\n",
        "Mean\n",
        "=\n",
        "𝜆\n",
        "and\n",
        "Variance\n",
        "=\n",
        "𝜆\n",
        "Mean=λandVariance=λ\n",
        "Skewness: For small values of\n",
        "𝜆\n",
        "λ, the distribution is highly skewed. As\n",
        "𝜆\n",
        "λ increases, the distribution becomes more symmetric and approaches a normal distribution.\n",
        "\n",
        "When is it Appropriate to Use the Poisson Distribution?\n",
        "\n",
        "  - Events Occur in Fixed Intervals: When you're counting the number of events happening within a fixed time period or a fixed area (e.g., number of customers arriving at a store in an hour).\n",
        "\n",
        "\n",
        "  - Low Probability of Events: The events are rare and infrequent within the interval. For example, the number of accidents in a day at a specific intersection.\n",
        "\n",
        "\n",
        "  - Events are Independent: The occurrence of one event does not influence the occurrence of another event (e.g., one phone call coming in does not affect the next call).\n",
        "\n",
        "\n",
        "  - No Upper Limit for Events: The number of events can theoretically be any non-negative integer (i.e., 0, 1, 2, 3,...), though the probability of large numbers of events tends to be very small.\n",
        "\n",
        "\n",
        "\n",
        "  - Events Occur Randomly: The events occur randomly within the interval, and the distribution of the events is stable over time.\n",
        "\n"
      ],
      "metadata": {
        "id": "raFuZiN-FB6w"
      }
    },
    {
      "cell_type": "code",
      "source": [],
      "metadata": {
        "id": "x9u6eOjzmDEt"
      },
      "execution_count": null,
      "outputs": []
    },
    {
      "cell_type": "code",
      "source": [
        "# Question6: Define the terms \"probability distribution\" and \"probability density function\" (PDF). How does a PDF differ from a probability mass function (PMF)?"
      ],
      "metadata": {
        "id": "FxJdkKqgmvLX"
      },
      "execution_count": null,
      "outputs": []
    },
    {
      "cell_type": "markdown",
      "source": [
        "\n",
        "**Probability Distribution:**\n",
        "\n",
        "Definition: A probability distribution is a mathematical function that provides the probabilities of occurrence of different possible outcomes in an experiment or random process.\n",
        "\n",
        "Types:\n",
        "\n",
        "**Discrete Probability Distribution**:\n",
        "\n",
        " Deals with discrete outcomes (e.g., number of heads in coin tosses).\n",
        "Continuous Probability Distribution: Deals with continuous outcomes (e.g., height of people, time, etc.).\n",
        "\n",
        "**Purpose:** It assigns a probability to each outcome or range of outcomes, ensuring that the sum (discrete) or integral (continuous) of all probabilities equals 1.\n",
        "\n",
        "Examples:\n",
        "\n",
        "Discrete: Poisson distribution, Binomial distribution.\n",
        "Continuous: Normal distribution, Exponential distribution.\n",
        "\n",
        "--------------------------------------------------------------\n",
        "\n",
        "\n",
        "**Probability Density Function (PDF):**\n",
        "\n",
        "\n",
        "Definition: A Probability Density Function (PDF) is a function used to describe the probability distribution of a continuous random variable. The PDF represents the likelihood of the random variable taking a specific value.\n",
        "\n",
        "Characteristics:\n",
        "\n",
        "  - The area under the curve of the PDF over an interval gives the probability of the random variable falling within that interval.\n",
        "\n",
        "\n",
        "  - The total area under the entire PDF curve is 1, which corresponds to the fact that the total probability is 1.\n",
        "\n",
        "\n",
        "  - Continuous Variables: The PDF is used for continuous distributions, where the probability of the random variable taking any exact value is technically 0 (since continuous variables can take infinitely many values).\n",
        "\n",
        "  - Mathematical Form: The probability of a random variable\n",
        "The probability that \\(X\\) lies between \\(a\\) and \\(b\\) is given by:\n",
        "\n",
        "$$ P(a \\leq X \\leq b) = \\int_{a}^{b} f(x) \\, dx $$\n",
        "\n",
        "where \\(f(x)\\) is the PDF of the random variable \\(X\\).\n",
        "\n",
        "Difference between PDF and PMF\n",
        "\n",
        "| **Characteristic**                     | **PDF (Probability Density Function)**                               | **PMF (Probability Mass Function)**                               |\n",
        "|----------------------------------------|---------------------------------------------------------------------|------------------------------------------------------------------|\n",
        "| **Definition**                         | A function that describes the likelihood of a continuous random variable taking a specific value. | A function that assigns probabilities to discrete outcomes of a random variable. |\n",
        "| **Type of Variable**                   | Continuous random variables.                                        | Discrete random variables.                                       |\n",
        "| **Probability Representation**         | Represents probability density over an interval, with the probability of exact outcomes being zero. | Directly gives the probability of each specific outcome.         |\n",
        "| **Mathematical Expression**            | $$ P(a \\leq X \\leq b) = \\int_{a}^{b} f(x) \\, dx $$                 | \\( P(X = k) \\) where \\( k \\) is a discrete value.              |\n",
        "| **Total Probability**                  | The total area under the PDF curve is 1.                            | The sum of all probabilities is 1.                               |\n",
        "| **Use**                                | Used for continuous distributions, e.g., Normal, Exponential.       | Used for discrete distributions, e.g., Binomial, Poisson.       |\n",
        "| **Example**                            | Probability of a person's height falling within a certain range.    | Probability of rolling a specific number on a fair die.          |\n",
        "\n"
      ],
      "metadata": {
        "id": "JY8l43eHnLh3"
      }
    },
    {
      "cell_type": "code",
      "source": [],
      "metadata": {
        "id": "Yz3lMadJoCvW"
      },
      "execution_count": null,
      "outputs": []
    },
    {
      "cell_type": "code",
      "source": [
        "# Question7: Explain the Central Limit Theorem (CLT) with example."
      ],
      "metadata": {
        "id": "QYmuBGh6ouuw"
      },
      "execution_count": null,
      "outputs": []
    },
    {
      "cell_type": "markdown",
      "source": [
        "Following is the point-wise discussion of Central Limit Theorem(CLT)\n",
        "\n",
        "**Definition:**\n",
        "The CLT states that if you take sufficiently large random samples from any population (with finite mean and variance), the distribution of the sample mean will be approximately normal (i.e., Gaussian) regardless of the shape of the population distribution.\n",
        "\n",
        "Conditions:\n",
        "\n",
        "- The sample size\n",
        "𝑛\n",
        " should be large enough (typically\n",
        "𝑛\n",
        "≥\n",
        "30\n",
        " is considered large).\n",
        "\n",
        "- The population should have a finite mean\n",
        "𝜇\n",
        " and finite variance\n",
        "𝜎\n",
        "\n",
        "- The samples are taken independently.\n",
        "\n",
        "Result:\n",
        "As the sample size increases, the distribution of the sample means becomes more symmetric and bell-shaped (normal distribution), even if the population itself is not normally distributed.\n",
        "\n",
        "**Mean and Standard Deviation of the Sampling Distribution:**\n",
        "\n",
        "- The mean of the sample means\n",
        "𝜇\n",
        "𝑋\n",
        "ˉ is equal to the mean of the population\n",
        "𝜇.\n",
        "\n",
        "\n",
        "- The standard deviation of the sample means (called the standard error\n",
        "SE\n",
        ") is equal to the population standard deviation\n",
        "𝜎\n",
        " divided by the square root of the sample size\n",
        "𝑛\n",
        ":\n",
        "SE=𝜎/(sqrt(n))\n",
        "\n",
        "**Shape of Distribution:**\n",
        "\n",
        "- For large 𝑛, the sample mean distribution becomes approximately normal.\n",
        "\n",
        "- For small\n",
        "𝑛, the distribution might not be normal, especially if the population is highly skewed or has extreme outliers."
      ],
      "metadata": {
        "id": "YSkbTlghpMpE"
      }
    },
    {
      "cell_type": "code",
      "source": [],
      "metadata": {
        "id": "hFdOekh4qum3"
      },
      "execution_count": null,
      "outputs": []
    },
    {
      "cell_type": "code",
      "source": [
        "# Question 8: Compare z-scores and t-scores. When should you use a z-score, and when should a t-score be applied instead?"
      ],
      "metadata": {
        "id": "Kjs1YcAnq2r3"
      },
      "execution_count": null,
      "outputs": []
    },
    {
      "cell_type": "markdown",
      "source": [
        "| **Feature**                  | **Z-Score**                              | **T-Score**                              |\n",
        "|------------------------------|------------------------------------------|------------------------------------------|\n",
        "| **Population Standard Deviation** | Known                                    | Unknown                                  |\n",
        "| **Sample Size**              | Large (\\(n \\geq 30\\))                    | Small (\\(n < 30\\))                       |\n",
        "| **Formula**                  | \\( Z = \\frac{X - \\mu}{\\sigma} \\)         | \\( T = \\frac{\\bar{X} - \\mu}{s / \\sqrt{n}} \\) |\n",
        "| **Distribution**             | Standard normal distribution (mean = 0, std = 1) | t-distribution (mean = 0, varies with \\(n\\)) |\n",
        "| **Use**                      | Large sample sizes and known population SD | Small sample sizes and unknown population SD |\n",
        "| **Assumptions**              | Population is normally distributed (or large sample size due to CLT) | Population is normally distributed (especially with small sample size) |\n",
        "\n",
        "\n",
        "\n",
        "We Use a Z-Score when:\n",
        "\n",
        "- The population standard deviation is known.\n",
        "\n",
        "- The sample size is large (typically 𝑛≥30).\n",
        "\n",
        "- The population is normally distributed or the sample size is large enough for the Central Limit Theorem to apply.\n",
        "\n",
        "\n",
        "Use a T-Score when:\n",
        "\n",
        "- The population standard deviation is unknown.\n",
        "- The sample size is small (typically n<30)\n",
        "- The population is assumed to be normally distributed."
      ],
      "metadata": {
        "id": "Qm0zXm1dq5XI"
      }
    },
    {
      "cell_type": "code",
      "source": [],
      "metadata": {
        "id": "TgTQoRP8sU59"
      },
      "execution_count": null,
      "outputs": []
    },
    {
      "cell_type": "code",
      "source": [
        "# Question9: Given a sample mean of 105, a population mean of 100, a standard deviation of 15, and a sample\n",
        "# size of 25, calculate the z-score and p-value. Based on a significance level of 0.05, do you reject or fail to\n",
        "# reject the null hypothesis?\n",
        "\n",
        "#  Task: Write Python code to calculate the z-score and p-value for the given data.\n",
        "\n",
        "# Objective: Apply the formula for the z-score and interpret the p-value for hypothesis testing."
      ],
      "metadata": {
        "id": "WFHwWy7idbub"
      },
      "execution_count": null,
      "outputs": []
    },
    {
      "cell_type": "code",
      "source": [
        "import math\n",
        "import scipy.stats as stats\n",
        "\n",
        "# Given values\n",
        "sample_mean = 105\n",
        "population_mean = 100\n",
        "std_dev = 15\n",
        "sample_size = 25\n",
        "alpha = 0.05\n",
        "\n",
        "# Calculate the Standard Error of the Mean (SEM)\n",
        "sem = std_dev / math.sqrt(sample_size)\n",
        "\n",
        "# Calculate the Z-score\n",
        "z_score = (sample_mean - population_mean) / sem\n",
        "\n",
        "# Calculate the p-value for a two-tailed test\n",
        "p_value = 2 * (1 - stats.norm.cdf(abs(z_score)))\n",
        "\n",
        "# Output results\n",
        "print(f\"Z-score: {z_score}\")\n",
        "print(f\"P-value: {p_value}\")\n",
        "\n",
        "# Hypothesis testing decision\n",
        "if p_value <= alpha:\n",
        "    print(\"Reject the null hypothesis.\")\n",
        "else:\n",
        "    print(\"Fail to reject the null hypothesis.\")\n"
      ],
      "metadata": {
        "colab": {
          "base_uri": "https://localhost:8080/"
        },
        "id": "HOiFYXfNeCVm",
        "outputId": "245f9042-2f2e-400b-c144-131aabae632b"
      },
      "execution_count": 1,
      "outputs": [
        {
          "output_type": "stream",
          "name": "stdout",
          "text": [
            "Z-score: 1.6666666666666667\n",
            "P-value: 0.09558070454562939\n",
            "Fail to reject the null hypothesis.\n"
          ]
        }
      ]
    },
    {
      "cell_type": "code",
      "source": [],
      "metadata": {
        "id": "Bzu3KGz1eD41"
      },
      "execution_count": null,
      "outputs": []
    },
    {
      "cell_type": "code",
      "source": [
        "# # Question10: Simulate a binomial distribution with 10 trials and a probability of success of 0.6 using Python.\n",
        "# Generate 1,000 samples and plot the distribution. What is the expected mean and variance?\n",
        "\n",
        "# Task: Use Python to generate the data, plot the distribution, and calculate the mean and variance.\n",
        "\n",
        "# Objective: Understand the properties of a binomial distribution and verify them through simulation."
      ],
      "metadata": {
        "id": "I0aE8RGLep7I"
      },
      "execution_count": null,
      "outputs": []
    },
    {
      "cell_type": "code",
      "source": [
        "import numpy as np\n",
        "import matplotlib.pyplot as plt\n",
        "\n",
        "# Given parameters\n",
        "n_trials = 10  # Number of trials per sample\n",
        "p_success = 0.6  # Probability of success\n",
        "n_samples = 1000  # Number of samples\n",
        "\n",
        "# Simulate the binomial distribution\n",
        "samples = np.random.binomial(n_trials, p_success, n_samples)\n",
        "\n",
        "# Plot the histogram of the samples\n",
        "plt.figure(figsize=(8, 6))\n",
        "plt.hist(samples, bins=range(n_trials + 2), edgecolor='black', alpha=0.7)\n",
        "plt.title(f\"Binomial Distribution: n={n_trials}, p={p_success}\")\n",
        "plt.xlabel(\"Number of Successes\")\n",
        "plt.ylabel(\"Frequency\")\n",
        "plt.xticks(range(n_trials + 1))  # Show integer values on x-axis\n",
        "plt.grid(True)\n",
        "plt.show()\n",
        "\n",
        "# Calculate the mean and variance from the simulated data\n",
        "simulated_mean = np.mean(samples)\n",
        "simulated_variance = np.var(samples)\n",
        "\n",
        "# Expected mean and variance\n",
        "expected_mean = n_trials * p_success\n",
        "expected_variance = n_trials * p_success * (1 - p_success)\n",
        "\n",
        "# Output the results\n",
        "simulated_mean, simulated_variance, expected_mean, expected_variance\n"
      ],
      "metadata": {
        "colab": {
          "base_uri": "https://localhost:8080/",
          "height": 581
        },
        "id": "UPFZl3HUep22",
        "outputId": "0e892cf5-c0e4-41de-e662-bbde2831042e"
      },
      "execution_count": 4,
      "outputs": [
        {
          "output_type": "display_data",
          "data": {
            "text/plain": [
              "<Figure size 800x600 with 1 Axes>"
            ],
            "image/png": "[encoded data removed]"
          },
          "metadata": {}
        },
        {
          "output_type": "execute_result",
          "data": {
            "text/plain": [
              "(5.968, 2.3489760000000004, 6.0, 2.4000000000000004)"
            ]
          },
          "metadata": {},
          "execution_count": 4
        }
      ]
    },
    {
      "cell_type": "code",
      "source": [],
      "metadata": {
        "id": "Vim-Eo3feqhU"
      },
      "execution_count": null,
      "outputs": []
    }
  ]
}